{
 "cells": [
  {
   "cell_type": "markdown",
   "id": "7d41a476",
   "metadata": {},
   "source": [
    "# Face detection using Haar feature-based cascade classifiers"
   ]
  },
  {
   "cell_type": "code",
   "execution_count": 2,
   "id": "b8156fad",
   "metadata": {},
   "outputs": [
    {
     "name": "stderr",
     "output_type": "stream",
     "text": [
      "usage: ipykernel_launcher.py [-h] [--face_cascade FACE_CASCADE]\n",
      "                             [--eyes_cascade EYES_CASCADE] [--camera CAMERA]\n",
      "ipykernel_launcher.py: error: unrecognized arguments: -f C:\\Users\\Bekhnam\\AppData\\Roaming\\jupyter\\runtime\\kernel-d4f4a6ba-36fe-448c-b4f7-04dcd04547b4.json\n"
     ]
    },
    {
     "ename": "SystemExit",
     "evalue": "2",
     "output_type": "error",
     "traceback": [
      "An exception has occurred, use %tb to see the full traceback.\n",
      "\u001b[1;31mSystemExit\u001b[0m\u001b[1;31m:\u001b[0m 2\n"
     ]
    }
   ],
   "source": [
    "from __future__ import print_function\n",
    "import cv2 as cv\n",
    "import argparse\n",
    "\n",
    "def detectAndDisplay(frame):\n",
    "    frame_gray = cv.cvtColor(frame, cv.COLOR_BGR2GRAY)\n",
    "    frame_gray = cv.equalizeHist(frame_gray)\n",
    "    \n",
    "    # detect faces\n",
    "    faces = face_cascade.detectMultiScale(frame_gray)\n",
    "    for (x,y,w,h) in faces:\n",
    "        center = (x + w//2, y + h//2)\n",
    "        frame = cv.ellipse(frame, center, (w//2, h//2), 0, 0, 360, (255,0,255), 4)\n",
    "        \n",
    "        faceROI = frame_gray[y:y+h, x:x+w]\n",
    "        # in each face, detect eyes\n",
    "        eyes = eyes_cascade.detectMultiScale(faceROI)\n",
    "        for (x2,y2,w2,h2) in eyes:\n",
    "            eye_center = (x + x2 +w2//2, y + y2 + h2//2)\n",
    "            radius = int(round(w2 + h2) * 0.25)\n",
    "            frame = cv.circle(frame, eye_center, radius, (255,0,0), 4)\n",
    "    cv.imshow('Capture - Face detection', frame)\n",
    "\n",
    "parser = argparse.ArgumentParser(description='Code for Cascade Classifier.')\n",
    "parser.add_argument('--face_cascade', help='Path to face cascade', default='data/haarcascades/haarcascade_frontalface_alt.xml')\n",
    "parser.add_argument('--eyes_cascade', help='Path to eyes cascade', default='data/haarcascades/haarcascade_eye_tree_eyeglasses.xml')\n",
    "parser.add_argument('--camera', help='Camera divide number', type=int, default=0)\n",
    "args = parser.parse_args()\n",
    "\n",
    "face_cascade_name = args.face_cascade\n",
    "eyes_cascade_name = args.eyes_cascade\n",
    "\n",
    "face_cascade = cv.CascadeClassifier()\n",
    "eyes_cascade = cv.CascadeClassifier()\n",
    "\n",
    "# load the cascades\n",
    "if not face_cascade.load(cv.samples.findFile(face_cascade_name)):\n",
    "    print('--(!)Error loading face cascade')\n",
    "    exit(0)\n",
    "if not eyes_cascade.load(cv.samples.findFile(eyes_cascade_name)):\n",
    "    print('--(!)Error loading eyes cascade')\n",
    "    exit(0)\n",
    "\n",
    "camera_device = args.camera\n",
    "# read the video stream\n",
    "cap = cv.VideoCapture(camera_device)\n",
    "if not cap.isOpened:\n",
    "    print('--(!)Error opening video capture')\n",
    "    exit(0)\n",
    "\n",
    "while True:\n",
    "    ret, frame = cap.read()\n",
    "    if frame is None:\n",
    "        print('--(!) No capture frame -- break!')\n",
    "        break\n",
    "    \n",
    "    detectAndDisplay(frame)\n",
    "    \n",
    "    if cv.waitKey(10) == 27:\n",
    "        break"
   ]
  },
  {
   "cell_type": "code",
   "execution_count": null,
   "id": "7350c3a9",
   "metadata": {},
   "outputs": [],
   "source": []
  }
 ],
 "metadata": {
  "kernelspec": {
   "display_name": "Python 3",
   "language": "python",
   "name": "python3"
  },
  "language_info": {
   "codemirror_mode": {
    "name": "ipython",
    "version": 3
   },
   "file_extension": ".py",
   "mimetype": "text/x-python",
   "name": "python",
   "nbconvert_exporter": "python",
   "pygments_lexer": "ipython3",
   "version": "3.8.8"
  }
 },
 "nbformat": 4,
 "nbformat_minor": 5
}
