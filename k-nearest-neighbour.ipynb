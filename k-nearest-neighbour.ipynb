{
 "cells": [
  {
   "cell_type": "markdown",
   "id": "a86065a6",
   "metadata": {},
   "source": [
    "# kNN\n"
   ]
  },
  {
   "cell_type": "code",
   "execution_count": 3,
   "id": "c74b6431",
   "metadata": {},
   "outputs": [
    {
     "data": {
      "image/png": "[encoded data removed]",
      "text/plain": [
       "<Figure size 432x288 with 1 Axes>"
      ]
     },
     "metadata": {
      "needs_background": "light"
     },
     "output_type": "display_data"
    }
   ],
   "source": [
    "import cv2 as cv\n",
    "import numpy as np\n",
    "import matplotlib.pyplot as plt\n",
    "\n",
    "# Feature set containing (x, y) values of 25 known/training data\n",
    "trainData = np.random.randint(0,100,(25,2)).astype(np.float32)\n",
    "\n",
    "# label each one either Red or Blue with numbers 0 and 1\n",
    "responses = np.random.randint(0,2,(25,1)).astype(np.float32)\n",
    "\n",
    "# take red neighbours and plot them\n",
    "red = trainData[responses.ravel()==0]\n",
    "plt.scatter(red[:, 0], red[:, 1], 80, 'r', '^')\n",
    "\n",
    "# take blue neighbours and plot them\n",
    "blue = trainData[responses.ravel()==1]\n",
    "plt.scatter(blue[:, 0], blue[:, 1], 80, 'b', 's')\n",
    "\n",
    "plt.show()"
   ]
  },
  {
   "cell_type": "code",
   "execution_count": 6,
   "id": "5d400048",
   "metadata": {},
   "outputs": [
    {
     "name": "stdout",
     "output_type": "stream",
     "text": [
      "result: [[0.]\n",
      " [0.]\n",
      " [1.]\n",
      " [1.]\n",
      " [1.]\n",
      " [1.]\n",
      " [1.]\n",
      " [0.]\n",
      " [1.]\n",
      " [1.]]\n",
      "\n",
      "neighbours: [[0. 0. 1.]\n",
      " [0. 0. 0.]\n",
      " [1. 0. 1.]\n",
      " [1. 0. 1.]\n",
      " [1. 0. 1.]\n",
      " [0. 1. 1.]\n",
      " [1. 0. 1.]\n",
      " [0. 1. 0.]\n",
      " [1. 1. 0.]\n",
      " [0. 1. 1.]]\n",
      "\n",
      "distance: [[  17.  229.  445.]\n",
      " [  25.  169.  340.]\n",
      " [  26.  425.  685.]\n",
      " [ 125.  170.  196.]\n",
      " [  82.  121. 1025.]\n",
      " [  73.   81.  232.]\n",
      " [  74.  369.  520.]\n",
      " [  17.   58.  148.]\n",
      " [ 109.  221.  265.]\n",
      " [ 421.  580.  809.]]\n",
      "\n"
     ]
    },
    {
     "data": {
      "image/png": "[encoded data removed]",
      "text/plain": [
       "<Figure size 432x288 with 1 Axes>"
      ]
     },
     "metadata": {
      "needs_background": "light"
     },
     "output_type": "display_data"
    }
   ],
   "source": [
    "# Feature set containing (x, y) values of 25 known/training data\n",
    "trainData = np.random.randint(0,100,(25,2)).astype(np.float32)\n",
    "\n",
    "# label each one either Red or Blue with numbers 0 and 1\n",
    "responses = np.random.randint(0,2,(25,1)).astype(np.float32)\n",
    "\n",
    "# take red neighbours and plot them\n",
    "red = trainData[responses.ravel()==0]\n",
    "plt.scatter(red[:, 0], red[:, 1], 80, 'r', '^')\n",
    "\n",
    "# take blue neighbours and plot them\n",
    "blue = trainData[responses.ravel()==1]\n",
    "plt.scatter(blue[:, 0], blue[:, 1], 80, 'b', 's')\n",
    "\n",
    "# newcomer\n",
    "newcomer = np.random.randint(0,100,(10,2)).astype(np.float32)\n",
    "plt.scatter(newcomer[:,0], newcomer[:,1], 80, 'g', 'o')\n",
    "\n",
    "knn = cv.ml.KNearest_create()\n",
    "knn.train(trainData, cv.ml.ROW_SAMPLE, responses)\n",
    "ret, results, neighbours, dist = knn.findNearest(newcomer, 3)\n",
    "\n",
    "print(\"result: {}\\n\".format(results))\n",
    "print(\"neighbours: {}\\n\".format(neighbours))\n",
    "print(\"distance: {}\\n\".format(dist))\n",
    "\n",
    "plt.show()"
   ]
  },
  {
   "cell_type": "code",
   "execution_count": null,
   "id": "af6b3fa7",
   "metadata": {},
   "outputs": [],
   "source": []
  }
 ],
 "metadata": {
  "kernelspec": {
   "display_name": "Python 3",
   "language": "python",
   "name": "python3"
  },
  "language_info": {
   "codemirror_mode": {
    "name": "ipython",
    "version": 3
   },
   "file_extension": ".py",
   "mimetype": "text/x-python",
   "name": "python",
   "nbconvert_exporter": "python",
   "pygments_lexer": "ipython3",
   "version": "3.8.8"
  }
 },
 "nbformat": 4,
 "nbformat_minor": 5
}
