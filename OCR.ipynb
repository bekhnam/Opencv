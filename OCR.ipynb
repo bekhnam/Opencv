{
 "cells": [
  {
   "cell_type": "markdown",
   "id": "d3fef206",
   "metadata": {},
   "source": [
    "# OCR of the English Alphabet"
   ]
  },
  {
   "cell_type": "code",
   "execution_count": 1,
   "id": "a187a444",
   "metadata": {},
   "outputs": [
    {
     "name": "stdout",
     "output_type": "stream",
     "text": [
      "93.06\n"
     ]
    }
   ],
   "source": [
    "import numpy as np\n",
    "import cv2 as cv\n",
    "\n",
    "# load the data and convert the letters to numbers\n",
    "data = np.loadtxt('letter-recognition.data', dtype='float32', delimiter=',',\n",
    "                 converters={0: lambda ch: ord(ch)-ord('A')})\n",
    "\n",
    "# split the dataset in two, width 10000 samples each for training and test sets\n",
    "train, test = np.vsplit(data, 2)\n",
    "\n",
    "# split trainData and testData into features and responses\n",
    "responses, trainData = np.hsplit(train, [1])\n",
    "labels, testData = np.hsplit(test, [1])\n",
    "\n",
    "# initialize the kNN, classify, measure accuracy\n",
    "knn = cv.ml.KNearest_create()\n",
    "knn.train(trainData, cv.ml.ROW_SAMPLE, responses)\n",
    "ret, result, neighbour, dist = knn.findNearest(testData, k=5)\n",
    "\n",
    "correct = np.count_nonzero(result == labels)\n",
    "accuracy = correct * 100.0 / 10000\n",
    "print(accuracy)"
   ]
  },
  {
   "cell_type": "markdown",
   "id": "b282d414",
   "metadata": {},
   "source": [
    "# OCR of Hand-Written Data using SVM"
   ]
  },
  {
   "cell_type": "code",
   "execution_count": 2,
   "id": "9a3f9964",
   "metadata": {},
   "outputs": [],
   "source": [
    "def deskew(img):\n",
    "    m = cv.moments(img)\n",
    "    if abs(m['mu02']) < 1e-2:\n",
    "        return img.copy()\n",
    "    skew = m['mu11']/m['mu02']\n",
    "    M = np.float32([[1, skew, -0.5*SZ*skew], [0, 1, 0]])\n",
    "    img = cv.warpAffine(img, M, (SZ, SZ), flags=affine_flags)\n",
    "    return img\n"
   ]
  },
  {
   "cell_type": "code",
   "execution_count": 3,
   "id": "ca00a91a",
   "metadata": {},
   "outputs": [],
   "source": [
    "def hog(img):\n",
    "    gx = cv.Sobel(img, cv.CV_32F, 1, 0)\n",
    "    gy = cv.Sobel(img, cv.CV_32F, 0, 1)\n",
    "    mag, ang = cv.cartToPolar(gx, gy)\n",
    "    bins = np.int32(bin_n*ang/(2*np.pi))\n",
    "    bins_cells = bins[:10, :10], bins[10:, :10], bins[:10, 10:], bins[10:, 10:]\n",
    "    mag_cells = mag[:10, :10], mag[10:, :10], mag[:10, 10:], mag[10:, 10:]\n",
    "    hists = [np.bincount(b.ravel(), m.ravel(), bin_n) for b, m in zip(bins_cells, mag_cells)]\n",
    "    hist = np.hstack(hists)\n",
    "    return hist"
   ]
  },
  {
   "cell_type": "code",
   "execution_count": 4,
   "id": "c9f7e701",
   "metadata": {},
   "outputs": [
    {
     "name": "stdout",
     "output_type": "stream",
     "text": [
      "93.8\n"
     ]
    }
   ],
   "source": [
    "import cv2 as cv\n",
    "import numpy as np\n",
    "\n",
    "SZ = 20\n",
    "bin_n = 16\n",
    "\n",
    "affine_flags = cv.WARP_INVERSE_MAP|cv.INTER_LINEAR\n",
    "\n",
    "def deskew(img):\n",
    "    m = cv.moments(img)\n",
    "    if abs(m['mu02']) < 1e-2:\n",
    "        return img.copy()\n",
    "    skew = m['mu11']/m['mu02']\n",
    "    M = np.float32([[1, skew, -0.5*SZ*skew], [0, 1, 0]])\n",
    "    img = cv.warpAffine(img, M, (SZ,SZ), flags=affine_flags)\n",
    "    return img\n",
    "\n",
    "def hog(img):\n",
    "    gx = cv.Sobel(img, cv.CV_32F, 1, 0)\n",
    "    gy = cv.Sobel(img, cv.CV_32F, 0, 1)\n",
    "    mag, ang = cv.cartToPolar(gx, gy)\n",
    "    bins = np.int32(bin_n*ang/(2*np.pi))\n",
    "    bin_cells = bins[:10, :10], bins[10:, :10], bins[:10, 10:], bins[10:, 10:]\n",
    "    mag_cells = mag[:10, :10], mag[10:, :10], mag[:10, 10:], mag[10:, 10:]\n",
    "    hists = [np.bincount(b.ravel(), m.ravel(), bin_n) for b, m in zip(bin_cells, mag_cells)]\n",
    "    hist = np.hstack(hists)\n",
    "    return hist\n",
    "\n",
    "img = cv.imread(cv.samples.findFile('digits.png'), 0)\n",
    "if img is None:\n",
    "    raise Exception(\"we need the digits.png image from samples/data here!\")\n",
    "    \n",
    "cells = [np.hsplit(row, 100) for row in np.vsplit(img, 50)]\n",
    "\n",
    "# first half is trainData, remaining is testData\n",
    "train_cells = [ i[:50] for i in cells ]\n",
    "test_cells = [ i[50:] for i in cells ]\n",
    "\n",
    "deskewed = [list(map(deskew, row)) for row in train_cells]\n",
    "hogdata = [list(map(hog, row)) for row in deskewed]\n",
    "trainData = np.float32(hogdata).reshape(-1, 64)\n",
    "responses = np.repeat(np.arange(10), 250)[:, np.newaxis]\n",
    "\n",
    "svm = cv.ml.SVM_create()\n",
    "svm.setKernel(cv.ml.SVM_LINEAR)\n",
    "svm.setType(cv.ml.SVM_C_SVC)\n",
    "svm.setC(2.67)\n",
    "svm.setGamma(5.383)\n",
    "\n",
    "svm.train(trainData, cv.ml.ROW_SAMPLE, responses)\n",
    "svm.save('svm_data.dat')\n",
    "\n",
    "deskewed = [list(map(deskew, row)) for row in test_cells]\n",
    "hogdata = [list(map(hog, row)) for row in deskewed]\n",
    "testData = np.float32(hogdata).reshape(-1, bin_n*4)\n",
    "result = svm.predict(testData)[1]\n",
    "\n",
    "mask = result==responses\n",
    "correct = np.count_nonzero(mask)\n",
    "print(correct*100.0/result.size)"
   ]
  },
  {
   "cell_type": "code",
   "execution_count": null,
   "id": "5cdebcdc",
   "metadata": {},
   "outputs": [],
   "source": []
  }
 ],
 "metadata": {
  "kernelspec": {
   "display_name": "Python 3",
   "language": "python",
   "name": "python3"
  },
  "language_info": {
   "codemirror_mode": {
    "name": "ipython",
    "version": 3
   },
   "file_extension": ".py",
   "mimetype": "text/x-python",
   "name": "python",
   "nbconvert_exporter": "python",
   "pygments_lexer": "ipython3",
   "version": "3.8.8"
  }
 },
 "nbformat": 4,
 "nbformat_minor": 5
}
